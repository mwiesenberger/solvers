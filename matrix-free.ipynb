{
 "cells": [
  {
   "cell_type": "markdown",
   "id": "bd4db51f",
   "metadata": {},
   "source": [
    "# Matrix free solvers\n",
    "\n",
    "## Elliptic equation\n",
    "We here study the general two-dimensional elliptic equation\n",
    "\\begin{align}\n",
    "-\\nabla\\cdot( \\chi \\nabla_\\perp \\phi) = \\rho\n",
    "\\end{align}\n",
    "which in a two-dimensional Cartesian grid reads\n",
    "\\begin{align}\n",
    "    -\\frac{\\partial}{\\partial x} \\left( \\chi(x,y) \\frac{\\partial}{\\partial x} \\phi(x,y)\\right) - \\frac{\\partial}{\\partial y} \\left( \\chi(x,y) \\frac{\\partial}{\\partial y} \\phi(x,y)\\right) = \\rho(x,y)\n",
    "    \\label{eq:elliptic2d}\n",
    "\\end{align}\n",
    "The task is to find a solution for $\\phi$ for given $\\rho$ and $\\chi$.\n",
    "\n",
    "## Discretization\n",
    "We use discontinuous Galerkin (dG) methods to discretize\n",
    "\\begin{align}\n",
    "\\partial_x \\rightarrow D_x\n",
    "\\end{align}\n",
    "\n",
    "where $D_x$ is a block-sparse matrix.\n",
    "We then have\n",
    "\\begin{align}\n",
    "M \\phi &= \\rho \\label{eq:matrix} \\\\\n",
    "M &= D_x^T \\chi D_x + D_y^T \\chi D_y + J\n",
    "\\end{align}\n",
    "We here see that $M$ is **self-adjoint**, which means that we can use a **conjugate gradient (CG)** solver.\n",
    "## Problem\n",
    "\n",
    "```cpp\n",
    "// Pseudo-code:\n",
    "Grid g;\n",
    "Matrix dx = create_dx (g, bcx), dy = create_dy(g, bcy), j = create_jump();\n",
    "DiagMatrix diag_chi = create_from_given_vector(chi);\n",
    "// assembly of M requires four matrix-matrix multiplications and 2 additions\n",
    "Matrix M = dx.transpose()*diag_chi*dx + dy.transpose()*diag_chi*dy + j;\n",
    "// Now solve with CG\n",
    "CG cg;\n",
    "Vector phi = discretize_phi(g), rho = discretize_rho(g);\n",
    "cg.solve( M, phi, rho, eps = 1e-8);\n",
    "```\n",
    "- In order to assemble $M$ four **matrix-matrix multiplcations** need to be performed\n",
    "- This **takes longer than the entire CG solve**, at least in our initial tests (admittedly 10 years ago)\n"
   ]
  },
  {
   "cell_type": "markdown",
   "id": "d1c1f2ea",
   "metadata": {},
   "source": [
    "## Solution: matrix - free solvers\n",
    "```{admonition} Matrix-free\n",
    "A matrix-free solver is any solver for $M x = b$ that does **not require access** to the elements of the matrix $M_{ij}$\n",
    "```\n",
    "Matrix-free solvers are thus a subclass of available solvers\n",
    "\n",
    "Examples of solvers that are **matrix-free**:\n",
    "- All Krylov-subspace solvers are matrix-free. E.g. conjugate gradient (CG), LGMRES, BICG, etc.\n",
    "- Fixed point iterations\n",
    "- Chebyshev iteration\n",
    "\n",
    "\n",
    "Examples of solvers that are **not matrix-free**\n",
    "- Direct solvers; need to access $M_{ij}$ directly\n",
    "- Jacobi iteration; because it needs to decompose $M = D + L + U$\n",
    "- Gauss-Seidel iteration; needs to decompose $M = L_* + U$"
   ]
  },
  {
   "cell_type": "markdown",
   "id": "7bedfad7",
   "metadata": {},
   "source": [
    "## Example: Main loop of CG algorithm\n",
    "To solve \n",
    "\\begin{align}\n",
    "Mx = b\n",
    "\\end{align}\n",
    "the main loop of CG reads https://en.wikipedia.org/wiki/Conjugate_gradient_method\n",
    "\\begin{align}\n",
    "\\alpha_k =& \\frac{r_k^T \\cdot r_k}{p_k^T \\cdot ( \\color{red}{M \\cdot p_k})} \\\\\n",
    "x_{k+1} = & x_k + \\alpha_k p_k \\\\\n",
    "r_{k+1} = & r_k - \\alpha_k \\color{red}{M \\cdot p_k} \\\\\n",
    "\\beta_k = & \\frac{r_{k+1}^T \\cdot r_{k+1}}{r_k^T \\cdot r_k} \\\\\n",
    "p_{k+1} = & r_{k+1} + \\beta_k p_k\n",
    "\\end{align}\n",
    "To implement you only need to implement the **application of $M$ to a vector** rather than $M$ itself\n",
    "```cpp\n",
    "Grid g;\n",
    "Matrix dx = create_dx (g, bcx), dy = create_dy(g, bcy), j = create_jump();\n",
    "DiagMatrix diag_chi = create_from_given_vector(chi);\n",
    "\n",
    "// Implement the effet of matrix without ever assembling it\n",
    "Vector matrix_vector_product_with_elliptic_matrix( Vector phi)\n",
    "{\n",
    "    Vector dxP = dx*phi, dyP = dy*phi, JP = j*phi;\n",
    "    Vector tempX = diag_chi*dxP, tempY = diag_chi*dyP;\n",
    "    dxP = dx.transpose()*tempX, dy= dy.transpose()*tempY;\n",
    "    return dxP + dyP + JP;\n",
    "}\n",
    "\n",
    "// In main CG loop\n",
    "Vector Ap= matrix_vector_product_with_elliptic_matrix( p_k);\n",
    "double alpha = r_old / p*Ap;\n",
    "x = x + alpha*p;\n",
    "r = r - alpha*Ap;\n",
    "r_new = r*r;\n",
    "double beta = r_new/r_old;\n",
    "p = r + beta*p;\n",
    "r_old = r_new;\n",
    "```"
   ]
  },
  {
   "cell_type": "markdown",
   "id": "c4e74d4c",
   "metadata": {},
   "source": [
    "## A manufactured example problem\n",
    "\n",
    "We manufacture the solution \n",
    "\\begin{align}\n",
    "\\chi &= 1 + A \\sin (x)\\sin(y) \\\\\n",
    "\\rho &= 2 \\sin(x) \\sin(y) (A\\sin(x)\\sin(y) +1)- A\\sin^2(x)\\cos^2(y) - A\\cos^2(x)\\sin^2(y) \\\\\n",
    "\\phi &= \\sin(x)\\sin(y)\n",
    "\\end{align}\n",
    "for $A\\in ]-1,1[$ and solve on the domain $[0,\\pi]\\times [0,2\\pi]$ for Dirichlet boundary conditions in $x$ and periodic in $y$.\n",
    "The **initital guess is zero**."
   ]
  },
  {
   "cell_type": "markdown",
   "id": "e40dfab6",
   "metadata": {},
   "source": [
    "### Interface to Feltor from python\n",
    "\n",
    "We have a C++ program \"solvers.cpp\" written using the FELTOR library.\n",
    "- Takes json file as input\n",
    "- Writes output as yaml"
   ]
  },
  {
   "cell_type": "code",
   "execution_count": 1,
   "id": "18610192",
   "metadata": {},
   "outputs": [],
   "source": [
    "import simplesimdb  # A leightweight data creator and database manager\n",
    "import numpy as np\n",
    "import pandas as pd\n",
    "import matplotlib.pyplot as plt\n",
    "import yaml # for output files\n",
    "\n",
    "pd.set_option('display.float_format', lambda x: '%.2e' % x)\n",
    "# Type make solvers in the repository to have the executable available\n",
    "database = simplesimdb.Manager( executable='./solvers', directory='data', filetype = 'yaml')"
   ]
  },
  {
   "cell_type": "markdown",
   "id": "a5914657",
   "metadata": {},
   "source": [
    "### Create some default input parameters"
   ]
  },
  {
   "cell_type": "code",
   "execution_count": 2,
   "id": "2e24406d",
   "metadata": {},
   "outputs": [],
   "source": [
    "def create_solver() :\n",
    "    return {\n",
    "        \"type\" : \"CG\", # CG, LGMRES, BICGSTABl, Multigrid\n",
    "        \"eps\" : 1e-6,\n",
    "        \"preconditioner\" :{\n",
    "            \"type\" : \"none\" # None or diagonal\n",
    "        },\n",
    "        \"max_iter\" : 50000, # maximum number of iterations\n",
    "        # for CG\n",
    "        \"check-every\" : 1, # errror check every .. iterations\n",
    "        # for LGMRES\n",
    "        \"inner_m\" : 30,\n",
    "        \"outer_k\" : 3,\n",
    "        # for BICGSTABL\n",
    "        \"l_input\" : 3\n",
    "    }\n"
   ]
  },
  {
   "cell_type": "code",
   "execution_count": 3,
   "id": "81645484",
   "metadata": {},
   "outputs": [],
   "source": [
    "def create_inputfile ():\n",
    "    '''Create an input file for the solvers FELTOR code'''\n",
    "    return {\n",
    "        \"grid\" : {\n",
    "            \"n\" : 3,\n",
    "            \"Nx\" : 128, \n",
    "            \"Ny\" : 256,\n",
    "        },\n",
    "        \"solver\" : create_solver(),\n",
    "        \"equations\":\n",
    "        {\n",
    "            \"amp\" : 0.9, # The closer to 1 the more difficult!   \n",
    "        },\n",
    "        \"elliptic\" :\n",
    "        {\n",
    "            \"jfactor\" : 1,\n",
    "            \"direction\" : \"forward\" # forward or centered\n",
    "\n",
    "        }    \n",
    "    }"
   ]
  },
  {
   "cell_type": "markdown",
   "id": "ebf8213b",
   "metadata": {},
   "source": [
    "### Some basic setup"
   ]
  },
  {
   "cell_type": "code",
   "execution_count": 4,
   "id": "5714fb6b",
   "metadata": {},
   "outputs": [],
   "source": [
    "# Clean out all existing simulations\n",
    "database.delete_all()\n",
    "database.directory='data'"
   ]
  },
  {
   "cell_type": "code",
   "execution_count": 5,
   "id": "a273eae3",
   "metadata": {},
   "outputs": [],
   "source": [
    "def make_dataframe():\n",
    "    '''Make a pandas Dataframe of all simulations in the database\n",
    "    \n",
    "    Concatenates all inputs and outputs as serialized dicts\n",
    "    '''\n",
    "    inputs  = list()\n",
    "    outputs =list()\n",
    "    for data in database.table() :\n",
    "        inputs.append( data)\n",
    "        with open( database.outfile( data)) as f:\n",
    "            output = yaml.full_load(f)\n",
    "            outputs.append( output)\n",
    "    dfi = pd.json_normalize(inputs)        \n",
    "    dfo = pd.json_normalize(outputs)\n",
    "    return pd.concat([dfi, dfo], axis=1).sort_values( 'time', ascending=False)"
   ]
  },
  {
   "cell_type": "markdown",
   "id": "5bf5412d",
   "metadata": {},
   "source": [
    "### Our first solver test: Unpreconditioned CG on a Nvidia Titan Xp"
   ]
  },
  {
   "cell_type": "code",
   "execution_count": 6,
   "id": "af4ff72d",
   "metadata": {},
   "outputs": [
    {
     "name": "stdout",
     "output_type": "stream",
     "text": [
      "Running simulation 2c3fd2...d15a.yaml\n",
      "{'grid': {'n': 3, 'Nx': 128, 'Ny': 256}, 'solver': {'type': 'CG', 'eps': 1e-06, 'preconditioner': {'type': 'none'}, 'max_iter': 50000, 'check-every': 1, 'inner_m': 30, 'outer_k': 3, 'l_input': 3}, 'equations': {'amp': 0.9}, 'elliptic': {'jfactor': 1, 'direction': 'forward'}}\n",
      "{'time': 1.50459, 'iter': 4133, 'error': 8.07962e-08, 'error_abs': 1.79484e-07}\n"
     ]
    }
   ],
   "source": [
    "# Create an inputfile\n",
    "inputfile = create_inputfile()\n",
    "\n",
    "# Run a simulation\n",
    "outputfile=database.create( inputfile)\n",
    "\n",
    "# Read in the outputfile (yaml in this case)\n",
    "with open(outputfile) as f:\n",
    "    output = yaml.full_load(f)\n",
    "\n",
    "# Print\n",
    "print(inputfile)\n",
    "print(output)"
   ]
  },
  {
   "cell_type": "markdown",
   "id": "a6f16b3c",
   "metadata": {},
   "source": [
    "### Let us print this in a nicer way"
   ]
  },
  {
   "cell_type": "code",
   "execution_count": 7,
   "id": "0de914ed",
   "metadata": {},
   "outputs": [
    {
     "data": {
      "text/html": [
       "<div>\n",
       "<style scoped>\n",
       "    .dataframe tbody tr th:only-of-type {\n",
       "        vertical-align: middle;\n",
       "    }\n",
       "\n",
       "    .dataframe tbody tr th {\n",
       "        vertical-align: top;\n",
       "    }\n",
       "\n",
       "    .dataframe thead th {\n",
       "        text-align: right;\n",
       "    }\n",
       "</style>\n",
       "<table border=\"1\" class=\"dataframe\">\n",
       "  <thead>\n",
       "    <tr style=\"text-align: right;\">\n",
       "      <th></th>\n",
       "      <th>solver.type</th>\n",
       "      <th>solver.preconditioner.type</th>\n",
       "      <th>grid.n</th>\n",
       "      <th>grid.Nx</th>\n",
       "      <th>grid.Ny</th>\n",
       "      <th>iter</th>\n",
       "      <th>time</th>\n",
       "    </tr>\n",
       "  </thead>\n",
       "  <tbody>\n",
       "    <tr>\n",
       "      <th>0</th>\n",
       "      <td>CG</td>\n",
       "      <td>none</td>\n",
       "      <td>3</td>\n",
       "      <td>128</td>\n",
       "      <td>256</td>\n",
       "      <td>4133</td>\n",
       "      <td>1.50e+00</td>\n",
       "    </tr>\n",
       "  </tbody>\n",
       "</table>\n",
       "</div>"
      ],
      "text/plain": [
       "  solver.type solver.preconditioner.type  grid.n  grid.Nx  grid.Ny  iter  \\\n",
       "0          CG                       none       3      128      256  4133   \n",
       "\n",
       "      time  \n",
       "0 1.50e+00  "
      ]
     },
     "execution_count": 7,
     "metadata": {},
     "output_type": "execute_result"
    }
   ],
   "source": [
    "# Use Pandas to analyse the data in a nice way\n",
    "df = make_dataframe()  \n",
    "df[['solver.type','solver.preconditioner.type','grid.n','grid.Nx','grid.Ny','iter','time']]\n"
   ]
  },
  {
   "cell_type": "markdown",
   "id": "43747371",
   "metadata": {},
   "source": [
    "# Preconditioners in a matrix-free solver\n",
    "\n",
    "Problem: since the matrix elements are un-known the preconditioner also needs to be **matrix-free**\n",
    "\n",
    "We guess:\n",
    "\\begin{align}\n",
    "M^{-1} \\approx \\frac{1}{\\chi}\n",
    "\\end{align}\n",
    "Diagonal preconditioner\n",
    "\n"
   ]
  },
  {
   "cell_type": "code",
   "execution_count": 8,
   "id": "80a7b63f",
   "metadata": {},
   "outputs": [
    {
     "name": "stdout",
     "output_type": "stream",
     "text": [
      "Running simulation 2e0250...195b.yaml\n"
     ]
    },
    {
     "data": {
      "text/html": [
       "<div>\n",
       "<style scoped>\n",
       "    .dataframe tbody tr th:only-of-type {\n",
       "        vertical-align: middle;\n",
       "    }\n",
       "\n",
       "    .dataframe tbody tr th {\n",
       "        vertical-align: top;\n",
       "    }\n",
       "\n",
       "    .dataframe thead th {\n",
       "        text-align: right;\n",
       "    }\n",
       "</style>\n",
       "<table border=\"1\" class=\"dataframe\">\n",
       "  <thead>\n",
       "    <tr style=\"text-align: right;\">\n",
       "      <th></th>\n",
       "      <th>solver.type</th>\n",
       "      <th>solver.preconditioner.type</th>\n",
       "      <th>grid.n</th>\n",
       "      <th>grid.Nx</th>\n",
       "      <th>grid.Ny</th>\n",
       "      <th>iter</th>\n",
       "      <th>time</th>\n",
       "    </tr>\n",
       "  </thead>\n",
       "  <tbody>\n",
       "    <tr>\n",
       "      <th>0</th>\n",
       "      <td>CG</td>\n",
       "      <td>none</td>\n",
       "      <td>3</td>\n",
       "      <td>128</td>\n",
       "      <td>256</td>\n",
       "      <td>4133</td>\n",
       "      <td>1.50e+00</td>\n",
       "    </tr>\n",
       "    <tr>\n",
       "      <th>1</th>\n",
       "      <td>CG</td>\n",
       "      <td>diagonal</td>\n",
       "      <td>3</td>\n",
       "      <td>128</td>\n",
       "      <td>256</td>\n",
       "      <td>2097</td>\n",
       "      <td>7.32e-01</td>\n",
       "    </tr>\n",
       "  </tbody>\n",
       "</table>\n",
       "</div>"
      ],
      "text/plain": [
       "  solver.type solver.preconditioner.type  grid.n  grid.Nx  grid.Ny  iter  \\\n",
       "0          CG                       none       3      128      256  4133   \n",
       "1          CG                   diagonal       3      128      256  2097   \n",
       "\n",
       "      time  \n",
       "0 1.50e+00  \n",
       "1 7.32e-01  "
      ]
     },
     "execution_count": 8,
     "metadata": {},
     "output_type": "execute_result"
    }
   ],
   "source": [
    "inputfile = create_inputfile()\n",
    "inputfile[\"solver\"][\"preconditioner\"]['type'] = 'diagonal'\n",
    "\n",
    "database.create( inputfile)\n",
    "\n",
    "df = make_dataframe()  \n",
    "df[['solver.type','solver.preconditioner.type','grid.n','grid.Nx','grid.Ny','iter','time']]"
   ]
  },
  {
   "cell_type": "code",
   "execution_count": 9,
   "id": "14bfab10",
   "metadata": {},
   "outputs": [
    {
     "data": {
      "image/png": "[encoded data removed]",
      "text/plain": [
       "<Figure size 432x288 with 1 Axes>"
      ]
     },
     "metadata": {
      "needs_background": "light"
     },
     "output_type": "display_data"
    }
   ],
   "source": [
    "ax = df.plot.bar(x='solver.type',y=\"time\")"
   ]
  },
  {
   "cell_type": "markdown",
   "id": "f3d46df7",
   "metadata": {},
   "source": [
    "# How do other Krylov-solvers fare against CG?"
   ]
  },
  {
   "cell_type": "markdown",
   "id": "dd6ea82a",
   "metadata": {},
   "source": [
    "### LGMRES"
   ]
  },
  {
   "cell_type": "code",
   "execution_count": 10,
   "id": "2821a265",
   "metadata": {},
   "outputs": [
    {
     "name": "stdout",
     "output_type": "stream",
     "text": [
      "Running simulation 125aff...937d.yaml\n"
     ]
    },
    {
     "data": {
      "text/plain": [
       "'data/125afff62b1d961512876210dda326f55d55937d.yaml'"
      ]
     },
     "execution_count": 10,
     "metadata": {},
     "output_type": "execute_result"
    }
   ],
   "source": [
    "inputfile = create_inputfile()\n",
    "inputfile[\"solver\"][\"preconditioner\"]['type'] = 'diagonal'\n",
    "inputfile[\"solver\"][\"type\"] = \"LGMRES\"\n",
    "\n",
    "database.create( inputfile)\n",
    "# df = make_dataframe()\n",
    "# df[\"time_per_iter\"] = df[\"time\"]/df[\"iter\"]\n",
    "# dff = df[['solver.type','solver.preconditioner.type','grid.n','grid.Nx','grid.Ny',\n",
    "#           'iter','time','time_per_iter','error']]\n",
    "# dff"
   ]
  },
  {
   "cell_type": "markdown",
   "id": "7cf0c18c",
   "metadata": {},
   "source": [
    "### BICGSTABl"
   ]
  },
  {
   "cell_type": "code",
   "execution_count": 11,
   "id": "23d9543f",
   "metadata": {},
   "outputs": [
    {
     "name": "stdout",
     "output_type": "stream",
     "text": [
      "Running simulation 22c9a0...3d3d.yaml\n"
     ]
    },
    {
     "data": {
      "text/html": [
       "<div>\n",
       "<style scoped>\n",
       "    .dataframe tbody tr th:only-of-type {\n",
       "        vertical-align: middle;\n",
       "    }\n",
       "\n",
       "    .dataframe tbody tr th {\n",
       "        vertical-align: top;\n",
       "    }\n",
       "\n",
       "    .dataframe thead th {\n",
       "        text-align: right;\n",
       "    }\n",
       "</style>\n",
       "<table border=\"1\" class=\"dataframe\">\n",
       "  <thead>\n",
       "    <tr style=\"text-align: right;\">\n",
       "      <th></th>\n",
       "      <th>solver.type</th>\n",
       "      <th>solver.preconditioner.type</th>\n",
       "      <th>grid.n</th>\n",
       "      <th>grid.Nx</th>\n",
       "      <th>grid.Ny</th>\n",
       "      <th>iter</th>\n",
       "      <th>time</th>\n",
       "      <th>time_per_iter</th>\n",
       "    </tr>\n",
       "  </thead>\n",
       "  <tbody>\n",
       "    <tr>\n",
       "      <th>0</th>\n",
       "      <td>LGMRES</td>\n",
       "      <td>diagonal</td>\n",
       "      <td>3</td>\n",
       "      <td>128</td>\n",
       "      <td>256</td>\n",
       "      <td>5229</td>\n",
       "      <td>8.21e+00</td>\n",
       "      <td>1.57e-03</td>\n",
       "    </tr>\n",
       "    <tr>\n",
       "      <th>2</th>\n",
       "      <td>CG</td>\n",
       "      <td>none</td>\n",
       "      <td>3</td>\n",
       "      <td>128</td>\n",
       "      <td>256</td>\n",
       "      <td>4133</td>\n",
       "      <td>1.50e+00</td>\n",
       "      <td>3.64e-04</td>\n",
       "    </tr>\n",
       "    <tr>\n",
       "      <th>1</th>\n",
       "      <td>BICGSTABl</td>\n",
       "      <td>diagonal</td>\n",
       "      <td>3</td>\n",
       "      <td>128</td>\n",
       "      <td>256</td>\n",
       "      <td>1374</td>\n",
       "      <td>9.55e-01</td>\n",
       "      <td>6.95e-04</td>\n",
       "    </tr>\n",
       "    <tr>\n",
       "      <th>3</th>\n",
       "      <td>CG</td>\n",
       "      <td>diagonal</td>\n",
       "      <td>3</td>\n",
       "      <td>128</td>\n",
       "      <td>256</td>\n",
       "      <td>2097</td>\n",
       "      <td>7.32e-01</td>\n",
       "      <td>3.49e-04</td>\n",
       "    </tr>\n",
       "  </tbody>\n",
       "</table>\n",
       "</div>"
      ],
      "text/plain": [
       "  solver.type solver.preconditioner.type  grid.n  grid.Nx  grid.Ny  iter  \\\n",
       "0      LGMRES                   diagonal       3      128      256  5229   \n",
       "2          CG                       none       3      128      256  4133   \n",
       "1   BICGSTABl                   diagonal       3      128      256  1374   \n",
       "3          CG                   diagonal       3      128      256  2097   \n",
       "\n",
       "      time  time_per_iter  \n",
       "0 8.21e+00       1.57e-03  \n",
       "2 1.50e+00       3.64e-04  \n",
       "1 9.55e-01       6.95e-04  \n",
       "3 7.32e-01       3.49e-04  "
      ]
     },
     "execution_count": 11,
     "metadata": {},
     "output_type": "execute_result"
    }
   ],
   "source": [
    "inputfile = create_inputfile()\n",
    "inputfile[\"solver\"][\"preconditioner\"]['type'] = 'diagonal'\n",
    "inputfile[\"solver\"][\"type\"] = \"BICGSTABl\"\n",
    "\n",
    "database.create( inputfile)\n",
    "\n",
    "df = make_dataframe()\n",
    "df['time_per_iter'] =  df[\"time\"]/df[\"iter\"]\n",
    "dff = df[['solver.type','solver.preconditioner.type','grid.n','grid.Nx','grid.Ny','iter','time','time_per_iter']]\n",
    "dff"
   ]
  },
  {
   "cell_type": "code",
   "execution_count": 12,
   "id": "220d694b",
   "metadata": {},
   "outputs": [
    {
     "data": {
      "image/png": "[encoded data removed]",
      "text/plain": [
       "<Figure size 432x288 with 1 Axes>"
      ]
     },
     "metadata": {
      "needs_background": "light"
     },
     "output_type": "display_data"
    }
   ],
   "source": [
    "ax = df.plot.bar(x='solver.type',y=\"time\")"
   ]
  },
  {
   "cell_type": "markdown",
   "id": "b7e8b279",
   "metadata": {},
   "source": [
    " ### Observations\n",
    " - LGMRES is almost a **factor 10** worse than CG **for this problem** (other problems may have different results)\n",
    " - BICGSTABl fares almost as well as normal CG"
   ]
  },
  {
   "cell_type": "markdown",
   "id": "b226211a",
   "metadata": {},
   "source": [
    "# Matrix-free (geometric) multigrid\n",
    "\n",
    "Classical multigrid consists of three ingredients [*Briggs, W.L., Henson, V.E., and McCormick, S.F. (2000) A multigid tutorial*]\n",
    "- A grid restriction/prolongation \n",
    "- A (direct) solver on the coarsest grid\n",
    "- A smoother on the other grids\n",
    "\n",
    "With matrix-free (dG) solvers:\n",
    "- restriction/prolongation is straightforward\n",
    "- A direct solver is **inadmissable**\n",
    "- Most smoothers (e.g. Gauss-Seidel) are **not matrix-free**\n",
    "\n",
    "## A first attempt: Nested iterations\n",
    "\n",
    "IDEA:\n",
    "- project initial guess to coarsest grid\n",
    "- solve with PCG up to accuracy\n",
    "- interpolate solution to next fine grid\n",
    "- solve with PCG (with interpolated solution as initial guess)\n",
    "- ...\n",
    "\n",
    "This employs ideas from \"Full approximation scheme\" and **also works for nonlinear problems**\n",
    "\n",
    "[*Van Emden Henson \"Multigrid methods for nonlinear problems: an overview\", Proc. SPIE 5016, Computational Imaging, (1 July 2003);*]"
   ]
  },
  {
   "cell_type": "code",
   "execution_count": 13,
   "id": "c8eaf5f7",
   "metadata": {},
   "outputs": [],
   "source": [
    "def create_multigrid_inputfile():\n",
    "    return {\n",
    "        \"grid\" : {\n",
    "            \"n\" : 3,\n",
    "            \"Nx\" : 128, \n",
    "            \"Ny\" : 256,\n",
    "        },\n",
    "        \"solver\" : \n",
    "        {\n",
    "            \"type\" : \"Multigrid-FAS\", # Full approximation scheme\n",
    "            \"num_stages\" : 3,\n",
    "            \"solvers\" :\n",
    "            [\n",
    "                create_solver(), # Solver on stage 0 (the fine grid)\n",
    "                create_solver(), # Solver on stage 1 (the next grid)\n",
    "                create_solver()  # Solver on stage 2 (the coarse grid)\n",
    "            ]      \n",
    "        },\n",
    "        \"equations\":\n",
    "        {\n",
    "            \"amp\" : 0.9, # The closer to 1 the more difficult   \n",
    "        },\n",
    "        \"elliptic\" :\n",
    "        {\n",
    "            \"jfactor\" : 1,\n",
    "            \"direction\" : \"forward\" # forward or centered\n",
    "\n",
    "        }    \n",
    "    }\n"
   ]
  },
  {
   "cell_type": "code",
   "execution_count": 14,
   "id": "9b21805b",
   "metadata": {},
   "outputs": [
    {
     "name": "stdout",
     "output_type": "stream",
     "text": [
      "Running simulation 217afd...fdd7.yaml\n"
     ]
    },
    {
     "data": {
      "text/html": [
       "<div>\n",
       "<style scoped>\n",
       "    .dataframe tbody tr th:only-of-type {\n",
       "        vertical-align: middle;\n",
       "    }\n",
       "\n",
       "    .dataframe tbody tr th {\n",
       "        vertical-align: top;\n",
       "    }\n",
       "\n",
       "    .dataframe thead th {\n",
       "        text-align: right;\n",
       "    }\n",
       "</style>\n",
       "<table border=\"1\" class=\"dataframe\">\n",
       "  <thead>\n",
       "    <tr style=\"text-align: right;\">\n",
       "      <th></th>\n",
       "      <th>solver.type</th>\n",
       "      <th>solver.preconditioner.type</th>\n",
       "      <th>grid.n</th>\n",
       "      <th>grid.Nx</th>\n",
       "      <th>grid.Ny</th>\n",
       "      <th>iter</th>\n",
       "      <th>time</th>\n",
       "      <th>time_per_iter</th>\n",
       "      <th>error</th>\n",
       "    </tr>\n",
       "  </thead>\n",
       "  <tbody>\n",
       "    <tr>\n",
       "      <th>0</th>\n",
       "      <td>LGMRES</td>\n",
       "      <td>diagonal</td>\n",
       "      <td>3</td>\n",
       "      <td>128</td>\n",
       "      <td>256</td>\n",
       "      <td>5229</td>\n",
       "      <td>8.21e+00</td>\n",
       "      <td>1.57e-03</td>\n",
       "      <td>7.28e-07</td>\n",
       "    </tr>\n",
       "    <tr>\n",
       "      <th>3</th>\n",
       "      <td>CG</td>\n",
       "      <td>none</td>\n",
       "      <td>3</td>\n",
       "      <td>128</td>\n",
       "      <td>256</td>\n",
       "      <td>4133</td>\n",
       "      <td>1.50e+00</td>\n",
       "      <td>3.64e-04</td>\n",
       "      <td>8.08e-08</td>\n",
       "    </tr>\n",
       "    <tr>\n",
       "      <th>2</th>\n",
       "      <td>BICGSTABl</td>\n",
       "      <td>diagonal</td>\n",
       "      <td>3</td>\n",
       "      <td>128</td>\n",
       "      <td>256</td>\n",
       "      <td>1374</td>\n",
       "      <td>9.55e-01</td>\n",
       "      <td>6.95e-04</td>\n",
       "      <td>1.05e-06</td>\n",
       "    </tr>\n",
       "    <tr>\n",
       "      <th>4</th>\n",
       "      <td>CG</td>\n",
       "      <td>diagonal</td>\n",
       "      <td>3</td>\n",
       "      <td>128</td>\n",
       "      <td>256</td>\n",
       "      <td>2097</td>\n",
       "      <td>7.32e-01</td>\n",
       "      <td>3.49e-04</td>\n",
       "      <td>8.23e-08</td>\n",
       "    </tr>\n",
       "    <tr>\n",
       "      <th>1</th>\n",
       "      <td>Multigrid-FAS</td>\n",
       "      <td>diagonal</td>\n",
       "      <td>3</td>\n",
       "      <td>128</td>\n",
       "      <td>256</td>\n",
       "      <td>76</td>\n",
       "      <td>1.20e-01</td>\n",
       "      <td>1.58e-03</td>\n",
       "      <td>8.34e-08</td>\n",
       "    </tr>\n",
       "  </tbody>\n",
       "</table>\n",
       "</div>"
      ],
      "text/plain": [
       "     solver.type solver.preconditioner.type  grid.n  grid.Nx  grid.Ny  iter  \\\n",
       "0         LGMRES                   diagonal       3      128      256  5229   \n",
       "3             CG                       none       3      128      256  4133   \n",
       "2      BICGSTABl                   diagonal       3      128      256  1374   \n",
       "4             CG                   diagonal       3      128      256  2097   \n",
       "1  Multigrid-FAS                   diagonal       3      128      256    76   \n",
       "\n",
       "      time  time_per_iter    error  \n",
       "0 8.21e+00       1.57e-03 7.28e-07  \n",
       "3 1.50e+00       3.64e-04 8.08e-08  \n",
       "2 9.55e-01       6.95e-04 1.05e-06  \n",
       "4 7.32e-01       3.49e-04 8.23e-08  \n",
       "1 1.20e-01       1.58e-03 8.34e-08  "
      ]
     },
     "execution_count": 14,
     "metadata": {},
     "output_type": "execute_result"
    }
   ],
   "source": [
    "inputfile = create_multigrid_inputfile()\n",
    "for i in (0,1,2):\n",
    "    inputfile['solver']['solvers'][i]['preconditioner']['type'] = 'diagonal'\n",
    "inputfile['solver']['preconditioner'] = {'type': 'diagonal'}\n",
    "\n",
    "database.create( inputfile, error = 'display')\n",
    "df = make_dataframe()\n",
    "df[\"time_per_iter\"] = df[\"time\"]/df[\"iter\"]\n",
    "dff = df[['solver.type','solver.preconditioner.type','grid.n','grid.Nx','grid.Ny',\n",
    "          'iter','time','time_per_iter', 'error']]\n",
    "dff"
   ]
  },
  {
   "cell_type": "code",
   "execution_count": 15,
   "id": "72ff2187",
   "metadata": {},
   "outputs": [
    {
     "data": {
      "image/png": "[encoded data removed]",
      "text/plain": [
       "<Figure size 432x288 with 1 Axes>"
      ]
     },
     "metadata": {
      "needs_background": "light"
     },
     "output_type": "display_data"
    }
   ],
   "source": [
    "ax = df.plot.bar(x='solver.type',y=\"time\")\n",
    "ax.set_yscale('log')\n",
    "ax.set_ylim([0.05,10])\n",
    "plt.show()"
   ]
  },
  {
   "cell_type": "markdown",
   "id": "dc8ed347",
   "metadata": {},
   "source": [
    "## Fine-tuning: Avoiding scalar products on coarse grid\n",
    "\n",
    "On a cluster the most time-consuming operation is the scalar product on the coarse grid.\n",
    "**Avoid error check at every iteration**."
   ]
  },
  {
   "cell_type": "code",
   "execution_count": 16,
   "id": "09c1b3e2",
   "metadata": {},
   "outputs": [
    {
     "name": "stdout",
     "output_type": "stream",
     "text": [
      "Running simulation 27f4bd...be14.yaml\n"
     ]
    },
    {
     "data": {
      "text/html": [
       "<div>\n",
       "<style scoped>\n",
       "    .dataframe tbody tr th:only-of-type {\n",
       "        vertical-align: middle;\n",
       "    }\n",
       "\n",
       "    .dataframe tbody tr th {\n",
       "        vertical-align: top;\n",
       "    }\n",
       "\n",
       "    .dataframe thead th {\n",
       "        text-align: right;\n",
       "    }\n",
       "</style>\n",
       "<table border=\"1\" class=\"dataframe\">\n",
       "  <thead>\n",
       "    <tr style=\"text-align: right;\">\n",
       "      <th></th>\n",
       "      <th>solver.type</th>\n",
       "      <th>solver.preconditioner.type</th>\n",
       "      <th>grid.n</th>\n",
       "      <th>grid.Nx</th>\n",
       "      <th>grid.Ny</th>\n",
       "      <th>iter</th>\n",
       "      <th>time</th>\n",
       "      <th>time_per_iter</th>\n",
       "      <th>error</th>\n",
       "    </tr>\n",
       "  </thead>\n",
       "  <tbody>\n",
       "    <tr>\n",
       "      <th>0</th>\n",
       "      <td>LGMRES</td>\n",
       "      <td>diagonal</td>\n",
       "      <td>3</td>\n",
       "      <td>128</td>\n",
       "      <td>256</td>\n",
       "      <td>5229</td>\n",
       "      <td>8.21e+00</td>\n",
       "      <td>1.57e-03</td>\n",
       "      <td>7.28e-07</td>\n",
       "    </tr>\n",
       "    <tr>\n",
       "      <th>4</th>\n",
       "      <td>CG</td>\n",
       "      <td>none</td>\n",
       "      <td>3</td>\n",
       "      <td>128</td>\n",
       "      <td>256</td>\n",
       "      <td>4133</td>\n",
       "      <td>1.50e+00</td>\n",
       "      <td>3.64e-04</td>\n",
       "      <td>8.08e-08</td>\n",
       "    </tr>\n",
       "    <tr>\n",
       "      <th>2</th>\n",
       "      <td>BICGSTABl</td>\n",
       "      <td>diagonal</td>\n",
       "      <td>3</td>\n",
       "      <td>128</td>\n",
       "      <td>256</td>\n",
       "      <td>1374</td>\n",
       "      <td>9.55e-01</td>\n",
       "      <td>6.95e-04</td>\n",
       "      <td>1.05e-06</td>\n",
       "    </tr>\n",
       "    <tr>\n",
       "      <th>5</th>\n",
       "      <td>CG</td>\n",
       "      <td>diagonal</td>\n",
       "      <td>3</td>\n",
       "      <td>128</td>\n",
       "      <td>256</td>\n",
       "      <td>2097</td>\n",
       "      <td>7.32e-01</td>\n",
       "      <td>3.49e-04</td>\n",
       "      <td>8.23e-08</td>\n",
       "    </tr>\n",
       "    <tr>\n",
       "      <th>1</th>\n",
       "      <td>Multigrid-FAS</td>\n",
       "      <td>diagonal</td>\n",
       "      <td>3</td>\n",
       "      <td>128</td>\n",
       "      <td>256</td>\n",
       "      <td>76</td>\n",
       "      <td>1.20e-01</td>\n",
       "      <td>1.58e-03</td>\n",
       "      <td>8.34e-08</td>\n",
       "    </tr>\n",
       "    <tr>\n",
       "      <th>3</th>\n",
       "      <td>Multigrid-FAS</td>\n",
       "      <td>diagonal</td>\n",
       "      <td>3</td>\n",
       "      <td>128</td>\n",
       "      <td>256</td>\n",
       "      <td>76</td>\n",
       "      <td>1.13e-01</td>\n",
       "      <td>1.48e-03</td>\n",
       "      <td>8.22e-08</td>\n",
       "    </tr>\n",
       "  </tbody>\n",
       "</table>\n",
       "</div>"
      ],
      "text/plain": [
       "     solver.type solver.preconditioner.type  grid.n  grid.Nx  grid.Ny  iter  \\\n",
       "0         LGMRES                   diagonal       3      128      256  5229   \n",
       "4             CG                       none       3      128      256  4133   \n",
       "2      BICGSTABl                   diagonal       3      128      256  1374   \n",
       "5             CG                   diagonal       3      128      256  2097   \n",
       "1  Multigrid-FAS                   diagonal       3      128      256    76   \n",
       "3  Multigrid-FAS                   diagonal       3      128      256    76   \n",
       "\n",
       "      time  time_per_iter    error  \n",
       "0 8.21e+00       1.57e-03 7.28e-07  \n",
       "4 1.50e+00       3.64e-04 8.08e-08  \n",
       "2 9.55e-01       6.95e-04 1.05e-06  \n",
       "5 7.32e-01       3.49e-04 8.23e-08  \n",
       "1 1.20e-01       1.58e-03 8.34e-08  \n",
       "3 1.13e-01       1.48e-03 8.22e-08  "
      ]
     },
     "execution_count": 16,
     "metadata": {},
     "output_type": "execute_result"
    }
   ],
   "source": [
    "inputfile = create_multigrid_inputfile()\n",
    "for i in (0,1,2):\n",
    "    inputfile['solver']['solvers'][i]['check-every'] = 10 # only check error at every 10-th iteration \n",
    "    if( i==0 ) : \n",
    "        inputfile['solver']['solvers'][i]['check-every'] = 1 \n",
    "    inputfile['solver']['solvers'][i]['preconditioner']['type'] = 'diagonal'\n",
    "    inputfile['solver']['preconditioner'] = {'type': 'diagonal'}\n",
    "database.recreate( inputfile, error = 'display')\n",
    "# database.delete( inputfile)\n",
    "df = make_dataframe()\n",
    "df[\"time_per_iter\"] = df[\"time\"]/df[\"iter\"]\n",
    "dff = df[['solver.type','solver.preconditioner.type','grid.n','grid.Nx','grid.Ny',\n",
    "          'iter','time','time_per_iter','error']]\n",
    "dff"
   ]
  },
  {
   "cell_type": "code",
   "execution_count": 17,
   "id": "b6e2de92",
   "metadata": {},
   "outputs": [
    {
     "data": {
      "image/png": "[encoded data removed]",
      "text/plain": [
       "<Figure size 432x288 with 1 Axes>"
      ]
     },
     "metadata": {
      "needs_background": "light"
     },
     "output_type": "display_data"
    }
   ],
   "source": [
    "ax = dff.plot.bar(x='solver.type',y=\"time\")\n",
    "# ax.set_xticklabels([\"LGMRES\",\"BICGSTABl\",\"CG (no precond.)\", \"CG (with precond.)\"\n",
    "# ,\"FAS (default)\",  \"FAS (optimized)\"]) \n",
    "ax.set_xlabel( \"\")\n",
    "ax.set_yscale('log')\n",
    "ax.set_ylabel( 'time to solution [s]')\n",
    "ax.set_ylim([0.05,10])\n",
    "ax.legend().remove()\n",
    "# plt.savefig( 'solvers.png', bbox_inches=\"tight\")\n",
    "plt.show()"
   ]
  },
  {
   "cell_type": "markdown",
   "id": "6ac095a1",
   "metadata": {},
   "source": [
    "## Matrix-free Full multigrid\n",
    "\n",
    "Matrix-free Full multigrid is possible using \n",
    "- use Chebyshev iterations as smoother\n",
    "- use CG on coarse grid as solver\n",
    "\n",
    "BUT\n",
    "- no performance improvement over nested iterations (in our tests)\n",
    "- sometimes does not converge at all\n"
   ]
  },
  {
   "cell_type": "markdown",
   "id": "7ed6a0c6",
   "metadata": {},
   "source": [
    "#  Conclusions\n",
    "- Matrix-free solvers **avoid assembly cost** of matrix\n",
    "- CG solver can have large speedup **(up to 10x) over LGMRES** for symmetric problems\n",
    "- **Matrix-free multigrid possible** and large speedup (another 10x) over non-multigrid"
   ]
  },
  {
   "cell_type": "code",
   "execution_count": null,
   "id": "7f5e7d03",
   "metadata": {},
   "outputs": [],
   "source": []
  }
 ],
 "metadata": {
  "kernelspec": {
   "display_name": "Python 3",
   "language": "python",
   "name": "python3"
  },
  "language_info": {
   "codemirror_mode": {
    "name": "ipython",
    "version": 3
   },
   "file_extension": ".py",
   "mimetype": "text/x-python",
   "name": "python",
   "nbconvert_exporter": "python",
   "pygments_lexer": "ipython3",
   "version": "3.8.10"
  }
 },
 "nbformat": 4,
 "nbformat_minor": 5
}
