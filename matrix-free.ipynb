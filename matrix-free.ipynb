{
 "cells": [
  {
   "cell_type": "markdown",
   "id": "8aa9ffcf",
   "metadata": {},
   "source": [
    "# Matrix free solvers\n",
    "\n",
    "## Elliptic equation\n",
    "We here study the general two-dimensional elliptic equation\n",
    "\\begin{align}\n",
    "-\\nabla\\cdot( \\chi \\nabla_\\perp \\phi) = \\rho\n",
    "\\end{align}\n",
    "which in a two-dimensional Cartesian grid reads\n",
    "\\begin{align}\n",
    "    -\\frac{\\partial}{\\partial x} \\left( \\chi(x,y) \\frac{\\partial}{\\partial x} \\phi(x,y)\\right) - \\frac{\\partial}{\\partial y} \\left( \\chi(x,y) \\frac{\\partial}{\\partial y} \\phi(x,y)\\right) = \\rho(x,y)\n",
    "    \\label{eq:elliptic2d}\n",
    "\\end{align}\n",
    "The task is to find a solution for $\\phi$ for given $\\rho$ and $\\chi$.\n",
    "\n",
    "## Discretization\n",
    "We use discontinuous Galerkin (dG) methods to discretize\n",
    "\\begin{align}\n",
    "\\partial_x \\rightarrow D_x\n",
    "\\end{align}\n",
    "\n",
    "where $D_x$ is a block-sparse matrix.\n",
    "We then have\n",
    "\\begin{align}\n",
    "M \\phi &= \\rho \\label{eq:matrix} \\\\\n",
    "M &= D_x^T \\chi D_x + D_y^T \\chi D_y + J\n",
    "\\end{align}\n",
    "We here see that $M$ is **self-adjoint**, which means that we can use a **conjugate gradient (CG)** solver.\n",
    "## Problem\n",
    "\n",
    "```cpp\n",
    "// Pseudo-code:\n",
    "Grid g;\n",
    "Matrix dx = create_dx (g, bcx), dy = create_dy(g, bcy), j = create_jump();\n",
    "DiagMatrix diag_chi = create_from_given_vector(chi);\n",
    "// assembly of M requires four matrix-matrix multiplications and 2 additions\n",
    "Matrix M = dx.transpose()*diag_chi*dx + dy.transpose()*diag_chi*dy + j;\n",
    "// Now solve with CG\n",
    "CG cg;\n",
    "Vector phi = discretize_phi(g), rho = discretize_rho(g);\n",
    "cg.solve( M, phi, rho, eps = 1e-8);\n",
    "```\n",
    "- In order to assemble $M$ four **matrix-matrix multiplcations** need to be performed\n",
    "- This **takes longer than the entire CG solve**, at least in our initial tests (admittedly 10 years ago)\n"
   ]
  },
  {
   "cell_type": "markdown",
   "id": "3b8ef5db",
   "metadata": {},
   "source": [
    "## Solution: matrix - free solvers\n",
    "```{admonition}\n",
    "A matrix-free solver is any solver for $M x = b$ that does **not require access** to the elements of the matrix $M_{ij}$\n",
    "```\n",
    "Matrix-free solvers are thus a subclass of available solvers\n",
    "\n",
    "Examples of solvers that are **matrix-free**:\n",
    "- All Krylov-subspace solvers are matrix-free. E.g. conjugate gradient (CG), LGMRES, BICG, etc.\n",
    "- Fixed point iterations\n",
    "- Chebyshev iteration\n",
    "\n",
    "\n",
    "Examples of solvers that are **not matrix-free**\n",
    "- Direct solvers; need to access $M_{ij}$ directly\n",
    "- Jacobi iteration; because it needs to decompose $M = D + L + U$\n",
    "- Gauss-Seidel iteration; needs to decompose $M = L_* + U$"
   ]
  },
  {
   "cell_type": "markdown",
   "id": "1109fe76",
   "metadata": {},
   "source": [
    "## Example: Main loop of CG algorithm\n",
    "To solve \n",
    "\\begin{align}\n",
    "Mx = b\n",
    "\\end{align}\n",
    "the main loop of CG reads\n",
    "\\begin{align}\n",
    "\\alpha_k =& \\frac{r_k^T \\cdot r_k}{p_k^T \\cdot ( \\color{red}{M \\cdot p_k})} \\\\\n",
    "x_{k+1} = & x_k + \\alpha_k p_k \\\\\n",
    "r_{k+1} = & r_k - \\alpha_k \\color{red}{M \\cdot p_k} \\\\\n",
    "\\beta_k = & \\frac{r_{k+1}^T \\cdot r_{k+1}}{r_k^T \\cdot r_k} \\\\\n",
    "p_{k+1} = & r_{k+1} + \\beta_k p_k\n",
    "\\end{align}\n",
    "To implement you only need to implement the **application of $M$ to a vector** rather than $M$ itself\n",
    "```cpp\n",
    "Grid g;\n",
    "Matrix dx = create_dx (g, bcx), dy = create_dy(g, bcy), j = create_jump();\n",
    "DiagMatrix diag_chi = create_from_given_vector(chi);\n",
    "\n",
    "// Implement the effet of matrix without ever assembling it\n",
    "Vector matrix_vector_product_with_elliptic_matrix( Vector phi)\n",
    "{\n",
    "    Vector dxP = dx*phi, dyP = dy*phi, JP = j*phi;\n",
    "    Vector tempX = diag_chi*dxP, tempY = diag_chi*dyP;\n",
    "    dxP = dx.transpose()*tempX, dy= dy.transpose()*tempY;\n",
    "    return dxP + dyP + JP;\n",
    "}\n",
    "\n",
    "// In main CG loop\n",
    "Vector Ap= matrix_vector_product_with_elliptic_matrix( p_k);\n",
    "double alpha = r_old / p*Ap;\n",
    "x = x + alpha*p;\n",
    "r = r - alpha*Ap;\n",
    "r_new = r*r;\n",
    "double beta = r_new/r_old;\n",
    "p = r + beta*p;\n",
    "r_old = r_new;\n",
    "```"
   ]
  },
  {
   "cell_type": "markdown",
   "id": "d8613ce2",
   "metadata": {},
   "source": [
    "## A manufactured example problem"
   ]
  },
  {
   "cell_type": "code",
   "execution_count": null,
   "id": "b3acaa0b",
   "metadata": {},
   "outputs": [],
   "source": []
  }
 ],
 "metadata": {
  "kernelspec": {
   "display_name": "Python 3 (ipykernel)",
   "language": "python",
   "name": "python3"
  },
  "language_info": {
   "codemirror_mode": {
    "name": "ipython",
    "version": 3
   },
   "file_extension": ".py",
   "mimetype": "text/x-python",
   "name": "python",
   "nbconvert_exporter": "python",
   "pygments_lexer": "ipython3",
   "version": "3.9.12"
  }
 },
 "nbformat": 4,
 "nbformat_minor": 5
}
